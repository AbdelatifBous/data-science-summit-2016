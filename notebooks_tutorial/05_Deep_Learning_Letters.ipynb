{
 "cells": [
  {
   "cell_type": "code",
   "execution_count": 1,
   "metadata": {
    "collapsed": false,
    "slideshow": {
     "slide_type": "skip"
    }
   },
   "outputs": [],
   "source": [
    "import os\n",
    "import random\n",
    "import tarfile\n",
    "import sys\n",
    "import cv2\n",
    "import time\n",
    "import tensorflow as tf\n",
    "from IPython.display import clear_output\n",
    "from scipy import ndimage\n",
    "import numpy as np\n",
    "from six.moves.urllib.request import urlretrieve\n",
    "import matplotlib.pyplot as plt\n",
    "%matplotlib inline\n",
    "\n",
    "url = 'http://commondatastorage.googleapis.com/books1000/'\n",
    "\n",
    "def download(filename):\n",
    "    destination_file = \"data/\" + filename\n",
    "    if not os.path.exists(destination_file):\n",
    "        print(\"Dowloading \", filename, \"into \", destination_file)\n",
    "        urlretrieve(url + filename, destination_file)\n",
    "    else:\n",
    "        print \"File already exists: %s\" %filename\n",
    "    return destination_file\n",
    "\n",
    "def untar(filename):\n",
    "    folder = filename.split(\".tar\")[0]\n",
    "    if os.path.isdir(folder):\n",
    "        print(\"%s already extracted\" %filename)\n",
    "    else:\n",
    "        print(\"Extracting %s, please wait\" %filename)\n",
    "        tar = tarfile.open(filename)\n",
    "        sys.stdout.flush()\n",
    "        tar.extractall(\"data\")\n",
    "        tar.close()\n",
    "    extracted_folders = [\n",
    "        os.path.join(folder, subfolder) for subfolder in sorted(os.listdir(folder))\n",
    "        if os.path.isdir(os.path.join(folder, subfolder))]\n",
    "    print(extracted_folders)\n",
    "    return extracted_folders\n",
    "\n",
    "def plt_imshow(image):\n",
    "    plt.imshow(image, cmap = 'gray');\n",
    "    plt.axis('off')\n",
    "    plt.show()"
   ]
  },
  {
   "cell_type": "markdown",
   "metadata": {
    "slideshow": {
     "slide_type": "slide"
    }
   },
   "source": [
    "<img src=\"https://upload.wikimedia.org/wikipedia/en/7/74/TensorFlow.png\" width='300' align='right'/>\n",
    "\n",
    "## TensorFlow - Deep Learning\n",
    "Open source software library for numerical computation using data flow graphs. Nodes in the graph represent mathematical operations, while the graph edges represent the multidimensional data arrays (tensors) communicated between them."
   ]
  },
  {
   "cell_type": "markdown",
   "metadata": {
    "slideshow": {
     "slide_type": "subslide"
    }
   },
   "source": [
    "## What is a data flow graph?\n",
    "<img src=\"https://software.intel.com/sites/default/files/did_feeds_images/04bf8e3d-e689-47df-86e3-65027c891574/04bf8e3d-e689-47df-86e3-65027c891574-imageId=39b547c9-4958-4d00-8672-8331ce994264.jpg\" align='right' width='500px'/>\n",
    "Data (Edges):\n",
    "- Bread\n",
    "- Peanut Butter\n",
    "- Jelly\n",
    "\n",
    "Transformations (Nodes):\n",
    "- Get\n",
    "- Put"
   ]
  },
  {
   "cell_type": "markdown",
   "metadata": {
    "slideshow": {
     "slide_type": "subslide"
    }
   },
   "source": [
    "<img src=\"https://www.tensorflow.org/images/tensors_flowing.gif\" align='right' width='400px'/>\n",
    "\n",
    "## TensorFlow definition\n",
    "Data flow graphs describe mathematical computation with a directed graph of nodes & edges. Nodes typically implement mathematical operations, but can also represent endpoints to feed in data, push out results, or read/write persistent variables. Edges describe the input/output relationships between nodes. These data edges carry dynamically-sized multidimensional data arrays, or tensors. The flow of tensors through the graph is where TensorFlow gets its name. Nodes are assigned to computational devices and execute asynchronously and in parallel once all the tensors on their incoming edges becomes available."
   ]
  },
  {
   "cell_type": "markdown",
   "metadata": {
    "slideshow": {
     "slide_type": "slide"
    }
   },
   "source": [
    "![](images/udacity.png)\n",
    "\n",
    "Dataset and images in this notebook are from taken from the Udacity course."
   ]
  },
  {
   "cell_type": "markdown",
   "metadata": {
    "slideshow": {
     "slide_type": "slide"
    }
   },
   "source": [
    "## Data images to use\n",
    "The notMNIST database of handwritten digits. Has a set of 200,000 examples, and a set of 10,000 examples.\n",
    "\n",
    "<img src=\"images/1.png\" align=\"left\" width='210px'/>\n",
    "<img src=\"images/2.png\" align=\"left\" width='210px'/>\n",
    "<img src=\"images/3.png\" align=\"left\" width='210px'/>\n",
    "<img src=\"images/4.png\" align=\"left\" width='210px'/>\n",
    "<img src=\"images/5.png\" align=\"left\" width='210px'/>\n",
    "<img src=\"images/6.png\" align=\"left\" width='210px'/>\n",
    "<img src=\"images/7.png\" align=\"left\" width='210px'/>\n",
    "<img src=\"images/8.png\" align=\"left\" width='210px'/>\n",
    "<img src=\"images/9.png\" align=\"left\" width='210px'/>\n",
    "<img src=\"images/10.png\" align=\"left\" width='210px'/>\n",
    "\n",
    "We will use the small dataset of 10,000 examples"
   ]
  },
  {
   "cell_type": "markdown",
   "metadata": {
    "slideshow": {
     "slide_type": "subslide"
    }
   },
   "source": [
    "## Downloading Data"
   ]
  },
  {
   "cell_type": "code",
   "execution_count": 2,
   "metadata": {
    "collapsed": false,
    "slideshow": {
     "slide_type": "-"
    }
   },
   "outputs": [
    {
     "name": "stdout",
     "output_type": "stream",
     "text": [
      "('Dowloading ', 'notMNIST_small.tar.gz', 'into ', 'data/notMNIST_small.tar.gz')\n",
      "\n",
      "Data folders:\n",
      "Extracting data/notMNIST_small.tar.gz, please wait\n",
      "['data/notMNIST_small/A', 'data/notMNIST_small/B', 'data/notMNIST_small/C', 'data/notMNIST_small/D', 'data/notMNIST_small/E', 'data/notMNIST_small/F', 'data/notMNIST_small/G', 'data/notMNIST_small/H', 'data/notMNIST_small/I', 'data/notMNIST_small/J']\n"
     ]
    }
   ],
   "source": [
    "if not os.path.exists('data/pictures_tf'):\n",
    "    os.makedirs('data/pictures_tf')\n",
    "\n",
    "data_filename = download('notMNIST_small.tar.gz')\n",
    "print '\\nData folders:'\n",
    "data_folders = untar(data_filename)"
   ]
  },
  {
   "cell_type": "markdown",
   "metadata": {
    "slideshow": {
     "slide_type": "subslide"
    }
   },
   "source": [
    "## Reviewing the Data"
   ]
  },
  {
   "cell_type": "code",
   "execution_count": 3,
   "metadata": {
    "collapsed": false,
    "slideshow": {
     "slide_type": "-"
    }
   },
   "outputs": [
    {
     "data": {
      "image/png": "[encoded data removed]",
      "text/plain": [
       "<matplotlib.figure.Figure at 0x7fc162a9d390>"
      ]
     },
     "metadata": {},
     "output_type": "display_data"
    },
    {
     "name": "stdout",
     "output_type": "stream",
     "text": [
      "Maximum pixel intensity value: 255.00\n",
      "Shape of images (28, 28)\n"
     ]
    }
   ],
   "source": [
    "# display a two random image from each letter in the train folder\n",
    "def print_images(folders):\n",
    "    images = []\n",
    "    for folder in folders:\n",
    "        images_path = os.listdir(folder)\n",
    "        for i in range(2):\n",
    "            image_path = os.path.join(folder,\n",
    "                                      random.choice(images_path))\n",
    "            images.append(ndimage.imread(image_path))\n",
    "#             images.append(plt.imread(image_path))\n",
    "#             images.append(cv2.imread(image_path), 0)\n",
    "    plt.figure(figsize=(20, 1))\n",
    "    plt_imshow(np.hstack(images))\n",
    "    print 'Maximum pixel intensity value: %.2f' %np.amax(images[0])\n",
    "    print 'Shape of images ' + str(images[0].shape) \n",
    "\n",
    "print_images(data_folders)"
   ]
  },
  {
   "cell_type": "markdown",
   "metadata": {
    "slideshow": {
     "slide_type": "slide"
    }
   },
   "source": [
    "## Deep Learning Concepts\n",
    "\n",
    "- Logistic Regression\n",
    "    - Inputs, weights, biases, logits\n",
    "    - Softmax Function\n",
    "- Stochastic Gradient Descent\n",
    "    - Exponential Decaying Learning Rate\n",
    "- Neural Networks\n",
    "    - Relu Layer\n",
    "    - L2 regularization\n",
    "    - Dropout\n",
    "- Convolutional Neural Networks\n",
    "    - Patch\n",
    "    - Max Pooling"
   ]
  },
  {
   "cell_type": "markdown",
   "metadata": {
    "slideshow": {
     "slide_type": "subslide"
    }
   },
   "source": [
    "### Logistic Regression\n",
    "#### Inputs * Weights + Biases = Logits\n",
    "![](images/deep_learning/1.png)"
   ]
  },
  {
   "cell_type": "markdown",
   "metadata": {
    "slideshow": {
     "slide_type": "subslide"
    }
   },
   "source": [
    "### Logistic Regression\n",
    "#### Softmax Function\n",
    "![](images/deep_learning/2.png)"
   ]
  },
  {
   "cell_type": "markdown",
   "metadata": {
    "slideshow": {
     "slide_type": "subslide"
    }
   },
   "source": [
    "### Logistic Regression Overview\n",
    "![](images/deep_learning/3.png)"
   ]
  },
  {
   "cell_type": "markdown",
   "metadata": {
    "slideshow": {
     "slide_type": "subslide"
    }
   },
   "source": [
    "### Stochastic Gradient Descent\n",
    "![](images/deep_learning/9.png)"
   ]
  },
  {
   "cell_type": "markdown",
   "metadata": {
    "slideshow": {
     "slide_type": "subslide"
    }
   },
   "source": [
    "### Stochastic Gradient Descent\n",
    "#### Learning Rate\n",
    "![](images/deep_learning/10.png)"
   ]
  },
  {
   "cell_type": "markdown",
   "metadata": {
    "slideshow": {
     "slide_type": "subslide"
    }
   },
   "source": [
    "![](images/deep_learning/4.png)"
   ]
  },
  {
   "cell_type": "markdown",
   "metadata": {
    "slideshow": {
     "slide_type": "subslide"
    }
   },
   "source": [
    "## Neural Networks\n",
    "### Relu\n",
    "![](images/deep_learning/5.png)"
   ]
  },
  {
   "cell_type": "markdown",
   "metadata": {
    "slideshow": {
     "slide_type": "subslide"
    }
   },
   "source": [
    "### Logistic Regression --> Relu --> Logistic Regression\n",
    "![](images/deep_learning/6.png)"
   ]
  },
  {
   "cell_type": "markdown",
   "metadata": {
    "slideshow": {
     "slide_type": "subslide"
    }
   },
   "source": [
    "### Neural Networks\n",
    "![](images/deep_learning/7.png)"
   ]
  },
  {
   "cell_type": "markdown",
   "metadata": {
    "slideshow": {
     "slide_type": "subslide"
    }
   },
   "source": [
    "### Neural Networks\n",
    "#### Drop Out\n",
    "![](images/deep_learning/8.png)"
   ]
  },
  {
   "cell_type": "markdown",
   "metadata": {
    "slideshow": {
     "slide_type": "subslide"
    }
   },
   "source": [
    "### Convolutional Neural Networks\n",
    "![](images/deep_learning/11.png)\n"
   ]
  },
  {
   "cell_type": "markdown",
   "metadata": {
    "slideshow": {
     "slide_type": "subslide"
    }
   },
   "source": [
    "### Images: Convolutional Neural Networks\n",
    "### Text: Embeddings and Recurrent Neural Networks\n",
    "![](images/deep_learning/12.png)"
   ]
  },
  {
   "cell_type": "markdown",
   "metadata": {
    "slideshow": {
     "slide_type": "subslide"
    }
   },
   "source": [
    "### Convolutional Neural Networks\n",
    "#### Patch\n",
    "![](images/deep_learning/13.png)"
   ]
  },
  {
   "cell_type": "markdown",
   "metadata": {
    "slideshow": {
     "slide_type": "subslide"
    }
   },
   "source": [
    "### Convolutional Neural Networks\n",
    "#### Max Pooling\n",
    "![](images/deep_learning/14.png)"
   ]
  },
  {
   "cell_type": "markdown",
   "metadata": {
    "slideshow": {
     "slide_type": "subslide"
    }
   },
   "source": [
    "### Convolutional Neural Networks\n",
    "![](images/deep_learning/15.png)"
   ]
  },
  {
   "cell_type": "markdown",
   "metadata": {
    "slideshow": {
     "slide_type": "slide"
    }
   },
   "source": [
    "## Building the Dataset"
   ]
  },
  {
   "cell_type": "code",
   "execution_count": 4,
   "metadata": {
    "collapsed": false,
    "slideshow": {
     "slide_type": "-"
    }
   },
   "outputs": [],
   "source": [
    "img_size = 28 # pixel size\n",
    "num_imgs = 1500 # images per class\n",
    "num_classes = 10\n",
    "\n",
    "def build_dataset(folders):\n",
    "    dataset = np.ndarray((num_imgs * num_classes, img_size, img_size), dtype=np.float32)\n",
    "    labels = np.ndarray(num_imgs * num_classes, dtype=np.int32)\n",
    "    counter = 0\n",
    "    for img_class, folder in enumerate(folders):\n",
    "        per_class_counter = 0\n",
    "        for img_name in os.listdir(folder):\n",
    "            if per_class_counter < num_imgs:\n",
    "                img_path = os.path.join(folder, img_name)\n",
    "                try:\n",
    "                    img = ndimage.imread(img_path).astype(float) # Convert to float\n",
    "                    img = (img - 255 / 2) / 255 # Normalization\n",
    "                    if img.shape == (img_size, img_size):\n",
    "                        dataset[counter] = img\n",
    "                        labels[counter] = img_class\n",
    "                        counter += 1\n",
    "                        per_class_counter += 1\n",
    "                    else:\n",
    "                        raise Exception(\"Unexpected image shape\")\n",
    "                except Exception as e:\n",
    "                    print 'Unable to use image: ' + str(e)\n",
    "    return dataset, labels"
   ]
  },
  {
   "cell_type": "code",
   "execution_count": 5,
   "metadata": {
    "collapsed": false,
    "slideshow": {
     "slide_type": "subslide"
    }
   },
   "outputs": [
    {
     "name": "stdout",
     "output_type": "stream",
     "text": [
      "Unable to use image: cannot identify image file 'data/notMNIST_small/A/RGVtb2NyYXRpY2FCb2xkT2xkc3R5bGUgQm9sZC50dGY=.png'\n",
      "Unable to use image: cannot identify image file 'data/notMNIST_small/F/Q3Jvc3NvdmVyIEJvbGRPYmxpcXVlLnR0Zg==.png'\n",
      "\n",
      "Total number of images: 15000\n",
      "Images Shape:(28, 28)\n",
      "Dataset Shape: (15000, 28, 28)\n"
     ]
    }
   ],
   "source": [
    "dataset, labels = build_dataset(data_folders)\n",
    "print '\\nTotal number of images: %d' %dataset.shape[0]\n",
    "print 'Images Shape:' + str(dataset[0].shape)\n",
    "print 'Dataset Shape: ' + str(dataset.shape)"
   ]
  },
  {
   "cell_type": "markdown",
   "metadata": {
    "slideshow": {
     "slide_type": "subslide"
    }
   },
   "source": [
    "## Train, Validation and Test Sets"
   ]
  },
  {
   "cell_type": "code",
   "execution_count": 6,
   "metadata": {
    "collapsed": false,
    "slideshow": {
     "slide_type": "-"
    }
   },
   "outputs": [],
   "source": [
    "train_size = 1000\n",
    "valid_size = 250\n",
    "test_size = 250\n",
    "\n",
    "train_ds = np.ndarray((train_size * num_classes, img_size, img_size),dtype=np.float32)\n",
    "train_lb = np.ndarray(train_size * num_classes, dtype=np.int32)\n",
    "\n",
    "valid_ds = np.ndarray((valid_size * num_classes, img_size, img_size), dtype=np.float32)\n",
    "valid_lb = np.ndarray(valid_size * num_classes, dtype=np.int32)\n",
    "\n",
    "test_ds = np.ndarray((test_size * num_classes, img_size, img_size), dtype=np.float32)\n",
    "test_lb = np.ndarray(test_size * num_classes, dtype=np.int32)"
   ]
  },
  {
   "cell_type": "code",
   "execution_count": 7,
   "metadata": {
    "collapsed": false,
    "slideshow": {
     "slide_type": "subslide"
    }
   },
   "outputs": [
    {
     "name": "stdout",
     "output_type": "stream",
     "text": [
      "Train Shapes --> Dataset: (10000, 28, 28)   Labels: (10000,)\n",
      "Valid Shapes --> Dataset: (2500, 28, 28)    Labels: (2500,)\n",
      "Test Shapes  --> Dataset: (2500, 28, 28)    Labels: (2500,)\n"
     ]
    }
   ],
   "source": [
    "for i in range(10):\n",
    "    start_set, end_set = i * num_imgs, (i + 1) * num_imgs\n",
    "    start_train, end_train = i * train_size, (i + 1) * train_size\n",
    "    start_valid, end_valid = i * valid_size, (i + 1) * valid_size\n",
    "    start_test, end_test = i * test_size, (i + 1) * test_size\n",
    "    \n",
    "    letter_set = dataset[start_set : end_set]\n",
    "    np.random.shuffle(letter_set)\n",
    "    \n",
    "    train_ds[start_train : end_train] = letter_set[0: train_size]\n",
    "    train_lb[start_train : end_train] = i\n",
    "    valid_ds[start_valid : end_valid] = letter_set[train_size: train_size + valid_size]\n",
    "    valid_lb[start_valid : end_valid] = i\n",
    "    test_ds[start_test : end_test] = letter_set[train_size + valid_size: train_size + valid_size + test_size]\n",
    "    test_lb[start_test : end_test] = i\n",
    "\n",
    "print(\"Train Shapes --> Dataset: %s   Labels: %s\" %(train_ds.shape, train_lb.shape))\n",
    "print(\"Valid Shapes --> Dataset: %s    Labels: %s\" %(valid_ds.shape, valid_lb.shape))\n",
    "print(\"Test Shapes  --> Dataset: %s    Labels: %s\" %(test_ds.shape, test_lb.shape))"
   ]
  },
  {
   "cell_type": "markdown",
   "metadata": {
    "slideshow": {
     "slide_type": "subslide"
    }
   },
   "source": [
    "## Visualize Datasets"
   ]
  },
  {
   "cell_type": "code",
   "execution_count": 8,
   "metadata": {
    "collapsed": false,
    "slideshow": {
     "slide_type": "-"
    }
   },
   "outputs": [
    {
     "data": {
      "image/png": "[encoded data removed]",
      "text/plain": [
       "<matplotlib.figure.Figure at 0x7fc11a0df850>"
      ]
     },
     "metadata": {},
     "output_type": "display_data"
    }
   ],
   "source": [
    "for i in np.random.randint(0, 2500, 10):\n",
    "    clear_output(wait=\"Ture\")\n",
    "    plt.imshow(np.hstack((train_ds[i], test_ds[i], valid_ds[i])), cmap = 'gray')\n",
    "    plt.title(\"Train Set \" + str(train_lb[i]) +  \n",
    "              \"  -  Test Set\" + str(test_lb[i]) + \n",
    "              \"  -  Validation Set\" + str(valid_lb[i])) \n",
    "    plt.axis('off')\n",
    "    plt.show()\n",
    "    time.sleep(1)"
   ]
  },
  {
   "cell_type": "markdown",
   "metadata": {
    "slideshow": {
     "slide_type": "subslide"
    }
   },
   "source": [
    "## Randomize Dataset"
   ]
  },
  {
   "cell_type": "code",
   "execution_count": 9,
   "metadata": {
    "collapsed": false,
    "slideshow": {
     "slide_type": "-"
    }
   },
   "outputs": [
    {
     "data": {
      "image/png": "[encoded data removed]",
      "text/plain": [
       "<matplotlib.figure.Figure at 0x7fc116277b50>"
      ]
     },
     "metadata": {},
     "output_type": "display_data"
    }
   ],
   "source": [
    "def randomize(dataset, labels):\n",
    "    permutation = np.random.permutation(labels.shape[0])\n",
    "    shuffled_ds = dataset[permutation]\n",
    "    shuffled_lb = labels[permutation]\n",
    "    return shuffled_ds, shuffled_lb\n",
    "\n",
    "train_ds, train_lb = randomize(train_ds, train_lb)\n",
    "test_ds, test_lb = randomize(test_ds, test_lb)\n",
    "valid_ds, valid_lb = randomize(valid_ds, valid_lb)\n",
    "\n",
    "for i in np.random.randint(0, 2500, 5):\n",
    "    clear_output(wait=\"Ture\")\n",
    "    plt.imshow(np.hstack((train_ds[i], test_ds[i], valid_ds[i])), cmap = 'gray')\n",
    "    plt.title(\"Train Set \" + str(train_lb[i]) + \n",
    "              \"  -  Test Set\" + str(test_lb[i]) + \n",
    "              \"  -  Validation Set\" + str(valid_lb[i]))\n",
    "    plt.axis('off')\n",
    "    plt.show()\n",
    "    time.sleep(1)"
   ]
  },
  {
   "cell_type": "markdown",
   "metadata": {
    "slideshow": {
     "slide_type": "subslide"
    }
   },
   "source": [
    "## Reformat Input Shape"
   ]
  },
  {
   "cell_type": "code",
   "execution_count": 10,
   "metadata": {
    "collapsed": false,
    "slideshow": {
     "slide_type": "-"
    }
   },
   "outputs": [
    {
     "name": "stdout",
     "output_type": "stream",
     "text": [
      "Train Shapes --> Dataset: (10000, 28, 28, 1)   Labels: (10000, 10)\n",
      "Valid Shapes --> Dataset: (2500, 28, 28, 1)    Labels: (2500, 10)\n",
      "Test Shapes  --> Dataset: (2500, 28, 28, 1)    Labels: (2500, 10)\n"
     ]
    }
   ],
   "source": [
    "num_channels = 1 # grayscale\n",
    "\n",
    "def reformat(dataset, labels):\n",
    "    # as.type is not needed as the array is already float32 but just in case\n",
    "    dataset = dataset.reshape((-1, img_size, img_size, num_channels)).astype(np.float32)\n",
    "    # Map 0 to [1.0, 0.0, 0.0 ...], 1 to [0.0, 1.0, 0.0 ...]\n",
    "    labels = (np.arange(num_classes) == labels[:, None]).astype(np.float32)\n",
    "    return dataset, labels\n",
    "\n",
    "train_ds, train_lb = reformat(train_ds, train_lb)\n",
    "valid_ds, valid_lb = reformat(valid_ds, valid_lb)\n",
    "test_ds, test_lb = reformat(test_ds, test_lb)\n",
    "\n",
    "print(\"Train Shapes --> Dataset: %s   Labels: %s\" %(train_ds.shape, train_lb.shape))\n",
    "print(\"Valid Shapes --> Dataset: %s    Labels: %s\" %(valid_ds.shape, valid_lb.shape))\n",
    "print(\"Test Shapes  --> Dataset: %s    Labels: %s\" %(test_ds.shape, test_lb.shape))"
   ]
  },
  {
   "cell_type": "markdown",
   "metadata": {
    "slideshow": {
     "slide_type": "subslide"
    }
   },
   "source": [
    "## Accuracy"
   ]
  },
  {
   "cell_type": "code",
   "execution_count": 11,
   "metadata": {
    "collapsed": true,
    "slideshow": {
     "slide_type": "-"
    }
   },
   "outputs": [],
   "source": [
    "def accuracy(predictions, labels):\n",
    "    return 100.0 * np.sum(np.argmax(predictions, 1) == np.argmax(labels, 1)) / predictions.shape[0]"
   ]
  },
  {
   "cell_type": "markdown",
   "metadata": {
    "slideshow": {
     "slide_type": "slide"
    }
   },
   "source": [
    "## Deep Learning Model\n",
    "This is a very simple deep learning model, please make it better by:\n",
    "- Adding Convolutional Layer\n",
    "- Adding learning exponential decay\n",
    "- Adding a hidden layer\n",
    "- Adding a 2nd convolutional layer\n",
    "- Reducing the patch stride and applying Max Pool\n",
    "- Adding dropout\n",
    "- Playing with parameters"
   ]
  },
  {
   "cell_type": "code",
   "execution_count": 12,
   "metadata": {
    "collapsed": false,
    "slideshow": {
     "slide_type": "skip"
    }
   },
   "outputs": [],
   "source": [
    "batch_size = 50\n",
    "patch_size = 5\n",
    "depth1 = 2\n",
    "# depth2 = 16\n",
    "# num_hidden = 4\n",
    "\n",
    "graph = tf.Graph()\n",
    "\n",
    "with graph.as_default():\n",
    "    \n",
    "    #Input data\n",
    "    tf_train_ds = tf.placeholder(tf.float32, shape=(batch_size, img_size, img_size, num_channels))\n",
    "    tf_train_lb = tf.placeholder(tf.float32, shape=(batch_size, num_classes))\n",
    "    tf_valid_ds = tf.constant(valid_ds)\n",
    "    tf_test_ds = tf.constant(test_ds)\n",
    "    \n",
    "    # Variables.\n",
    "#     patch1_weights = tf.Variable(tf.truncated_normal([patch_size, patch_size, num_channels, depth1], stddev=0.1))\n",
    "#     patch1_biases = tf.Variable(tf.zeros([depth1]))\n",
    "    \n",
    "#     patch2_weights = tf.Variable(tf.truncated_normal([patch_size, patch_size, depth1, depth2], stddev=0.1))\n",
    "#     patch2_biases = tf.Variable(tf.constant(1.0, shape=[depth2]))\n",
    "    \n",
    "    # divided by four because that is the size once the patches have scanned the image\n",
    "#     layer1_weights = tf.Variable(tf.truncated_normal(\n",
    "#                                  [img_size // 4 * img_size // 4 * depth1, num_classes], stddev=0.1))\n",
    "    layer1_weights = tf.Variable(tf.truncated_normal(\n",
    "                                 [img_size * img_size * num_channels, num_classes], stddev=0.1))\n",
    "    layer1_biases = tf.Variable(tf.constant(1.0, shape=[num_classes]))\n",
    "    \n",
    "    \n",
    "#     layer2_weights = tf.Variable(tf.truncated_normal([num_hidden, num_classes], stddev=0.1))\n",
    "#     layer2_biases = tf.Variable(tf.constant(1.0, shape=[num_classes]))\n",
    "    \n",
    "    # Model\n",
    "    def model(data, training):\n",
    "        # first convolution layer. Stride only matter in two elements in the middle\n",
    "#         conv = tf.nn.conv2d(data, patch1_weights, [1, 4, 4, 1], padding=\"SAME\")\n",
    "#         conv = tf.nn.max_pool(conv1 + patch1_biases, [1, 2, 2, 1], [1, 2, 2, 1], padding=\"SAME\" )\n",
    "#         conv = tf.nn.relu(conv)\n",
    "        \n",
    "        # second convolution layer\n",
    "#         conv = tf.nn.conv2d(conv, patch2_weights, [1, 2, 2, 1], padding=\"SAME\")\n",
    "#         conv = tf.nn.max_pool(conv + patch2_biases, [1, 2, 2, 1], [1, 2, 2, 1], padding=\"SAME\" )\n",
    "#         conv = tf.nn.relu(conv)\n",
    "\n",
    "        # reshape to apply fully connected layer\n",
    "#         shape_conv = conv.get_shape().as_list()\n",
    "#         input_hidden = tf.reshape(conv, [shape_conv[0], shape_conv[1] * shape_conv[2] * shape_conv[3]])\n",
    "        input_hidden = tf.reshape(data, [-1, img_size * img_size * num_channels])\n",
    "#         hidden_layer = tf.nn.relu(tf.matmul(input_hidden, layer1_weights) + layer1_biases)\n",
    "        \n",
    "        # adding dropout layer\n",
    "#         if training:\n",
    "#             hidden_layer = tf.nn.dropout(hidden_layer, 0.6)\n",
    "        \n",
    "        return tf.matmul(input_hidden, layer1_weights) + layer1_biases\n",
    "#         return tf.matmul(hidden_layer, layer2_weights) + layer2_biases\n",
    "    \n",
    "    # training computation\n",
    "    logits = model(tf_train_ds, True)\n",
    "    regularization = 0 #tf.nn.l2_loss(layer1_weights) #+ tf.nn.l2_loss(layer2_weights)\n",
    "    loss = tf.reduce_mean(tf.nn.softmax_cross_entropy_with_logits(logits, tf_train_lb)) + \\\n",
    "           .0005 * regularization\n",
    "    \n",
    "    # Optimizer\n",
    "    global_step = tf.Variable(0)\n",
    "#     learning_rate = tf.train.exponential_decay(0.05, global_step, 200, 0.95, staircase = True)\n",
    "#     optimizer = tf.train.GradientDescentOptimizer(learning_rate).minimize(loss, global_step=global_step)\n",
    "    optimizer = tf.train.GradientDescentOptimizer(.05).minimize(loss, global_step=global_step)\n",
    "\n",
    "\n",
    "    # Predictions for the training, validation, and test data.\n",
    "    train_prediction = tf.nn.softmax(logits)\n",
    "    valid_prediction = tf.nn.softmax(model(tf_valid_ds, False))\n",
    "    test_prediction = tf.nn.softmax(model(tf_test_ds, False))"
   ]
  },
  {
   "cell_type": "markdown",
   "metadata": {
    "slideshow": {
     "slide_type": "skip"
    }
   },
   "source": [
    "## Execute Graph"
   ]
  },
  {
   "cell_type": "code",
   "execution_count": 13,
   "metadata": {
    "collapsed": false,
    "slideshow": {
     "slide_type": "skip"
    }
   },
   "outputs": [
    {
     "name": "stdout",
     "output_type": "stream",
     "text": [
      "Initialized\n",
      "Minibatch loss at step 0: 3.170311\n",
      "Minibatch accuracy: 10.0%\n",
      "Validation accuracy: 7.9%\n",
      "Test accuracy: 87.2%\n"
     ]
    }
   ],
   "source": [
    "num_steps = 201\n",
    "\n",
    "with tf.Session(graph=graph) as session:\n",
    "    tf.initialize_all_variables().run()\n",
    "    print('Initialized')\n",
    "    for step in range(num_steps):\n",
    "        # randomize offset\n",
    "        offset = (step * batch_size) % (train_lb.shape[0] - batch_size)\n",
    "        batch_ds = train_ds[offset:(offset + batch_size)]\n",
    "        batch_lb = train_lb[offset:(offset + batch_size)]\n",
    "        \n",
    "        feed_dict = {tf_train_ds : batch_ds, tf_train_lb : batch_lb}\n",
    "        _, l, predictions = session.run([optimizer, loss, train_prediction], feed_dict=feed_dict)\n",
    "        if (step % 500 == 0):\n",
    "            print('Minibatch loss at step %d: %f' % (step, l))\n",
    "            print('Minibatch accuracy: %.1f%%' % accuracy(predictions, batch_lb))\n",
    "            print('Validation accuracy: %.1f%%' % accuracy(\n",
    "            valid_prediction.eval(), valid_lb))\n",
    "    print('Test accuracy: %.1f%%' % accuracy(test_prediction.eval(), test_lb))"
   ]
  },
  {
   "cell_type": "code",
   "execution_count": null,
   "metadata": {
    "collapsed": true
   },
   "outputs": [],
   "source": []
  }
 ],
 "metadata": {
  "celltoolbar": "Slideshow",
  "kernelspec": {
   "display_name": "Python 2",
   "language": "python",
   "name": "python2"
  },
  "language_info": {
   "codemirror_mode": {
    "name": "ipython",
    "version": 2
   },
   "file_extension": ".py",
   "mimetype": "text/x-python",
   "name": "python",
   "nbconvert_exporter": "python",
   "pygments_lexer": "ipython2",
   "version": "2.7.6"
  }
 },
 "nbformat": 4,
 "nbformat_minor": 0
}
